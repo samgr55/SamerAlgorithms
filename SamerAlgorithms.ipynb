{
 "cells": [
  {
   "cell_type": "markdown",
   "id": "69821d5a-acba-46c5-829a-12e232260dad",
   "metadata": {},
   "source": [
    "# SamerAlgorithms : Turning Math into Quantum Power"
   ]
  },
  {
   "cell_type": "markdown",
   "id": "5332f9b0-fe76-4b93-8033-50456c2cc473",
   "metadata": {},
   "source": [
    "**SamerAlgorithms** converts complex mathematical expressions into optimization problems, making them solvable on Quantum Annealing hardware (Dynex - D-Wave) with full support for all arithmetic operators, it bridges the gap between classical mathematics and quantum computing by translating equations into BQM/QUBO/Ising formats for any mathematical challenge."
   ]
  },
  {
   "cell_type": "markdown",
   "id": "c8cbb8c9-482e-4499-b262-6252f972dc66",
   "metadata": {},
   "source": [
    "### Load Libraries"
   ]
  },
  {
   "cell_type": "code",
   "execution_count": 1,
   "id": "4560a450-d4b0-4837-bf03-9f5ed42df827",
   "metadata": {},
   "outputs": [],
   "source": [
    "from SamerAlgorithms import Expression, fVar, Qubits, DecodeSolution"
   ]
  },
  {
   "cell_type": "markdown",
   "id": "416bf132-c7d4-4b77-94ea-ee992f6759e6",
   "metadata": {},
   "source": [
    "- **`Expression`**: This decorator is used to define a method that includes all the variables and expressions you want to convert into an optimization format. It serves as the entry point for translating your mathematical expressions into a form suitable for quantum annealing.\n",
    "\n",
    "- **`fVar`**: This function allows you to specify fixed variables within your equation, providing constraints that the optimization process will respect during the translation into a quantum-ready format.\n",
    "\n",
    "- **`Qubits`**: This function determines the number of qubits required for each variable in your expression, ensuring the optimization problem is mapped correctly onto the quantum annealing hardware.\n",
    "\n",
    "- **`DecodeSolution`**: After the quantum annealing process is complete, this function is used to decode the sampleset into a format that is easily interpretable, turning the quantum output into meaningful, presentable data."
   ]
  },
  {
   "cell_type": "markdown",
   "id": "9529e767-36f5-4bc7-b53e-b41010abe958",
   "metadata": {},
   "source": [
    "--------------------------"
   ]
  },
  {
   "cell_type": "markdown",
   "id": "f22e99a4-efcd-454a-ba0f-266cad78c8e0",
   "metadata": {},
   "source": [
    "## Example 1:"
   ]
  },
  {
   "cell_type": "markdown",
   "id": "28d1fb60-1928-4cb4-96fd-67051a0a9f7d",
   "metadata": {},
   "source": [
    "$\n",
    "\\left[ \\left( a \\times b \\right) + c \\right] \\% d = 0\n",
    "$\n",
    "\n",
    "where:\n",
    "- $a$, $b$, $d$ have 3 qubits (8 possible values [0-7]) \n",
    "- $c$ = 6"
   ]
  },
  {
   "cell_type": "code",
   "execution_count": 2,
   "id": "785af0fa-4261-4bf9-aa91-4ba536006c3a",
   "metadata": {},
   "outputs": [],
   "source": [
    "@Expression\n",
    "def Minimize(a, b, c, d) -> Qubits(4): \n",
    "    a: Qubits(3) # 3 qubits needed for `a` variable\n",
    "    b: Qubits(3) # 3 qubits needed for `b` variable\n",
    "    c: fVar[Qubits(3)]  # 3 qubits needed for `c` variable and fVar means its value will be provided later.\n",
    "    d: Qubits(3) # 3 qubits needed for `d` variable\n",
    "    Expr = ((a * b) + c) % d # your expression\n",
    "    return Expr\n",
    "c = 6 \n",
    "solve = Minimize.assign(c=c) # assign fVar with its fixed value"
   ]
  },
  {
   "cell_type": "markdown",
   "id": "be370b56-503b-4bc6-9d17-78e1ee300e45",
   "metadata": {},
   "source": [
    "#### Translate the Expression into BQM"
   ]
  },
  {
   "cell_type": "code",
   "execution_count": 3,
   "id": "00432a2a-b918-4cac-8cd7-5e0c6df60026",
   "metadata": {},
   "outputs": [],
   "source": [
    "bqm = solve.BQM()"
   ]
  },
  {
   "cell_type": "markdown",
   "id": "0958fb14-2ed1-4f8d-8f80-28e4352fd939",
   "metadata": {},
   "source": [
    "### Using Dynex to solve the expression (Neuromorphic Quantum Annealer)"
   ]
  },
  {
   "cell_type": "code",
   "execution_count": 4,
   "id": "e871deef-3bda-49aa-8138-75ff6791078f",
   "metadata": {},
   "outputs": [
    {
     "name": "stdout",
     "output_type": "stream",
     "text": [
      "╭────────────┬──────────┬─────────────────┬─────────────┬───────────┬────────────────┬────────────┬─────────┬────────────────╮\n",
      "│   DYNEXJOB │   QUBITS │   QUANTUM GATES │   BLOCK FEE │   ELAPSED │   WORKERS READ │   CIRCUITS │   STEPS │   GROUND STATE │\n",
      "├────────────┼──────────┼─────────────────┼─────────────┼───────────┼────────────────┼────────────┼─────────┼────────────────┤\n",
      "│      32049 │       41 │             496 │        0.00 │      0.13 │              1 │      10000 │     200 │      688000.00 │\n",
      "╰────────────┴──────────┴─────────────────┴─────────────┴───────────┴────────────────┴────────────┴─────────┴────────────────╯\n",
      "╭────────────┬─────────────────┬────────────┬───────┬──────────┬───────────────┬─────────────────────────────┬───────────┬──────────╮\n",
      "│     WORKER │         VERSION │   CIRCUITS │   LOC │   ENERGY │       RUNTIME │                 LAST UPDATE │     STEPS │   STATUS │\n",
      "├────────────┼─────────────────┼────────────┼───────┼──────────┼───────────────┼─────────────────────────────┼───────────┼──────────┤\n",
      "│ e8f7..7ac5 │ 2.3.5.OZM.134.L │      10000 │     0 │     0.00 │ 10.177350247s │ 2024-08-19T12:55:18.335886Z │ 0 (0.00%) │  \u001b[1;31mSTOPPED\u001b[0m │\n",
      "├────────────┼─────────────────┼────────────┼───────┼──────────┼───────────────┼─────────────────────────────┼───────────┼──────────┤\n",
      "│ 6a66..2857 │ 2.3.5.OZM.134.L │      10000 │     0 │     0.00 │  334.388267ms │  2024-08-19T12:55:28.17885Z │ 0 (0.00%) │  \u001b[1;31mSTOPPED\u001b[0m │\n",
      "╰────────────┴─────────────────┴────────────┴───────┴──────────┴───────────────┴─────────────────────────────┴───────────┴──────────╯\n",
      "[DYNEX] FINISHED READ AFTER 12.73 SECONDS\n",
      "[DYNEX] SAMPLESET READY\n"
     ]
    }
   ],
   "source": [
    "import dynex\n",
    "model = dynex.BQM(bqm)\n",
    "sampler = dynex.DynexSampler(model, mainnet=True, description='SamerAlgorithms', bnb=False)\n",
    "sampleset = sampler.sample(num_reads=10000, annealing_time = 200, debugging=False, shots=1, is_cluster=True)"
   ]
  },
  {
   "cell_type": "markdown",
   "id": "b280ef0c-bbfe-4075-9d00-767f92ec7ef4",
   "metadata": {},
   "source": [
    "#### Decode Sampleset"
   ]
  },
  {
   "cell_type": "code",
   "execution_count": 5,
   "id": "8ab45c69-1459-4bca-8863-40e18479315b",
   "metadata": {},
   "outputs": [
    {
     "name": "stdout",
     "output_type": "stream",
     "text": [
      "{'a': 7, 'b': 7, 'd': 5}\n"
     ]
    }
   ],
   "source": [
    "decoded = DecodeSolution(solve, sampleset)\n",
    "best = min(decoded, key=lambda x: x.energy)\n",
    "print(best.sample)"
   ]
  },
  {
   "cell_type": "markdown",
   "id": "ce2e202d-d9e5-4f9c-af06-0cdb5322a7e4",
   "metadata": {},
   "source": [
    "#### Validate (This should be zero [BALANCED])"
   ]
  },
  {
   "cell_type": "code",
   "execution_count": 6,
   "id": "f802cb01-5039-43c1-a8a8-5448bdf0d3a2",
   "metadata": {},
   "outputs": [
    {
     "name": "stdout",
     "output_type": "stream",
     "text": [
      "Expression Result:  0\n"
     ]
    }
   ],
   "source": [
    "a = best.sample['a']\n",
    "b = best.sample['b']\n",
    "d = best.sample['d']\n",
    "Expr = ((a * b) + c) % d\n",
    "print(\"Expression Result: \",Expr)"
   ]
  },
  {
   "cell_type": "markdown",
   "id": "71ad1a0e-7628-4f20-9d38-64b672b4a07d",
   "metadata": {},
   "source": [
    "-----------------------------------"
   ]
  },
  {
   "cell_type": "markdown",
   "id": "d871ec9b-2207-4405-ac4f-354681f48083",
   "metadata": {},
   "source": [
    "## Example 2:"
   ]
  },
  {
   "cell_type": "markdown",
   "id": "193d619a-132b-474a-a9b2-813b2fd0f74e",
   "metadata": {},
   "source": [
    "$\n",
    "\\left[ \\left( \\left( p + q \\right) \\right) \\% r \\right] + \\left[ \\left( \\left( p \\times r \\right) - \\left( q + s \\right) \\right) \\% p \\right] - \\left( s - r \\right) + \\left[ \\left( \\left( s \\times p \\right) + \\left( q - r \\right) \\right) \\% 2 \\right] = 0\n",
    "$\n",
    "\n",
    "where:\n",
    "- $q$, $r$, $s$ have 3 qubits (8 possible values [0-7]) \n",
    "- $p = 1$\n",
    "- $2$ Moduli"
   ]
  },
  {
   "cell_type": "code",
   "execution_count": 2,
   "id": "a18c9edf-8017-45d4-8d32-f74da981569a",
   "metadata": {},
   "outputs": [],
   "source": [
    "@Expression\n",
    "def Minimize(p, q, r, s) -> Qubits(4):\n",
    "    p: fVar[Qubits(2)] # 2 qubits needed for `p` variable and fVar means its value will be provided later.\n",
    "    q: Qubits(3)       # 3 qubits needed for `q` variable\n",
    "    r: Qubits(3)       # 3 qubits needed for `r` variable\n",
    "    s: Qubits(3)       # 3 qubits needed for `s` variable\n",
    "    Expr = (((p + q)) % r) + (((p * r) - (q + s)) % p) - ((s - r)) + (((s * q) + (q - r)) % 2)\n",
    "    return Expr\n",
    "p = 1\n",
    "solve = Minimize.assign(p=p) # assign fVar with its fixed value"
   ]
  },
  {
   "cell_type": "markdown",
   "id": "e1be0f31-8d03-447a-b65d-a5268c9936e9",
   "metadata": {},
   "source": [
    "#### Translate the Expression into BQM"
   ]
  },
  {
   "cell_type": "code",
   "execution_count": 4,
   "id": "61fd5af9-846f-4e4a-acbd-bf4e84d27fb7",
   "metadata": {},
   "outputs": [],
   "source": [
    "bqm = solve.BQM()"
   ]
  },
  {
   "cell_type": "markdown",
   "id": "b5f82257-f158-426e-87f6-64d03bd9eb9b",
   "metadata": {},
   "source": [
    "### Using Dynex to solve the expression (Neuromorphic Quantum Annealer)"
   ]
  },
  {
   "cell_type": "code",
   "execution_count": 6,
   "id": "e65fb05d-f76b-40f6-a45c-04e0eb7fe413",
   "metadata": {},
   "outputs": [
    {
     "name": "stdout",
     "output_type": "stream",
     "text": [
      "[DYNEX] SAMPLER INITIALISED\n",
      "[DYNEX|TESTNET] *** WAITING FOR READS ***\n",
      "╭────────────┬──────────┬─────────────────┬─────────────┬───────────┬───────────────────────────┬────────────┬─────────┬────────────────╮\n",
      "│   DYNEXJOB │   QUBITS │   QUANTUM GATES │   BLOCK FEE │ ELAPSED   │ WORKERS READ              │ CIRCUITS   │ STEPS   │ GROUND STATE   │\n",
      "├────────────┼──────────┼─────────────────┼─────────────┼───────────┼───────────────────────────┼────────────┼─────────┼────────────────┤\n",
      "│         -1 │       54 │             798 │           0 │           │ *** WAITING FOR READS *** │            │         │                │\n",
      "╰────────────┴──────────┴─────────────────┴─────────────┴───────────┴───────────────────────────┴────────────┴─────────┴────────────────╯\n",
      "\n",
      "[DYNEX] FINISHED READ AFTER 0.20 SECONDS\n",
      "[DYNEX] SAMPLESET READY\n"
     ]
    }
   ],
   "source": [
    "import dynex\n",
    "model = dynex.BQM(bqm)\n",
    "sampler = dynex.DynexSampler(model, mainnet=False, description='SamerAlgorithms', bnb=False)\n",
    "sampleset = sampler.sample(num_reads=10000, annealing_time = 200, debugging=False, shots=1, is_cluster=False)"
   ]
  },
  {
   "cell_type": "markdown",
   "id": "9e4cc11b-940f-4036-b8d3-2d26a575cf75",
   "metadata": {},
   "source": [
    "#### Decode Sampleset"
   ]
  },
  {
   "cell_type": "code",
   "execution_count": 7,
   "id": "adff0f74-6551-4aef-9713-308e3f404110",
   "metadata": {},
   "outputs": [
    {
     "name": "stdout",
     "output_type": "stream",
     "text": [
      "{'q': 7, 'r': 7, 's': 3}\n"
     ]
    }
   ],
   "source": [
    "decoded = DecodeSolution(solve, sampleset)\n",
    "best = min(decoded, key=lambda x: x.energy)\n",
    "print(best.sample)"
   ]
  },
  {
   "cell_type": "markdown",
   "id": "221048b5-7a05-4fba-a207-6935290776b2",
   "metadata": {},
   "source": [
    "#### Validate (This should be zero [BALANCED])"
   ]
  },
  {
   "cell_type": "code",
   "execution_count": 8,
   "id": "5e68708c-b825-49ba-b16d-c64cb629a839",
   "metadata": {},
   "outputs": [
    {
     "name": "stdout",
     "output_type": "stream",
     "text": [
      "Expression Result:  0\n"
     ]
    }
   ],
   "source": [
    "q = best.sample['q']\n",
    "r = best.sample['r']\n",
    "s = best.sample['s']\n",
    "Expr = (((p + q)) % r) + (((p * r) - (q + s)) % p) - ((s - r)) + (((s * q) + (q - r)) % 2)\n",
    "print(\"Expression Result: \", Expr)"
   ]
  },
  {
   "cell_type": "markdown",
   "id": "6e8dfca6-54f7-4fa0-968d-f92c53b6860f",
   "metadata": {},
   "source": [
    "--------------------------"
   ]
  },
  {
   "cell_type": "markdown",
   "id": "e05b7576-370b-4c18-9909-8ed5fb9b5c14",
   "metadata": {},
   "source": [
    "## Example 3: (Arithmetic Modular)"
   ]
  },
  {
   "cell_type": "markdown",
   "id": "6b57f9b8-4af7-49f0-be57-9cddf730c35c",
   "metadata": {},
   "source": [
    "$\n",
    "N \\% d = 0\n",
    "$\n",
    "\n",
    "where:\n",
    "- $N$ has 6 qubits\n",
    "- $d$ has 3 qubits"
   ]
  },
  {
   "cell_type": "code",
   "execution_count": 13,
   "id": "54200bbc-2c4e-4bd2-bc5b-e31866ee63a4",
   "metadata": {},
   "outputs": [],
   "source": [
    "@Expression\n",
    "def Minimize(N, d) -> Qubits(6): \n",
    "    N: fVar[Qubits(6)]  # 6 qubits needed for `N` variable and fVar means its value will be provided later.\n",
    "    d: Qubits(3) # 3 qubits needed for `d` variable\n",
    "    Expr = N % d # your expression\n",
    "    return Expr\n",
    "N = 35\n",
    "solve = Minimize.assign(N=N) # assign fVar with its fixed value"
   ]
  },
  {
   "cell_type": "markdown",
   "id": "cb8b8d09-30b4-4fbc-bdb4-2381b32133c3",
   "metadata": {},
   "source": [
    "#### Translate the Expression into BQM"
   ]
  },
  {
   "cell_type": "code",
   "execution_count": 14,
   "id": "52b7953f-8bec-4860-850f-a3f2dc0f16df",
   "metadata": {},
   "outputs": [],
   "source": [
    "bqm = solve.BQM()"
   ]
  },
  {
   "cell_type": "markdown",
   "id": "88434cf8-bc79-412a-b517-c1af49b8998b",
   "metadata": {},
   "source": [
    "### Using Dynex to solve the expression (Neuromorphic Quantum Annealer)"
   ]
  },
  {
   "cell_type": "code",
   "execution_count": 15,
   "id": "a9b6512b-d4b4-4bf6-b455-a67d995c1286",
   "metadata": {},
   "outputs": [
    {
     "name": "stdout",
     "output_type": "stream",
     "text": [
      "╭────────────┬──────────┬─────────────────┬─────────────┬───────────┬────────────────┬────────────┬─────────┬────────────────╮\n",
      "│   DYNEXJOB │   QUBITS │   QUANTUM GATES │   BLOCK FEE │   ELAPSED │   WORKERS READ │   CIRCUITS │   STEPS │   GROUND STATE │\n",
      "├────────────┼──────────┼─────────────────┼─────────────┼───────────┼────────────────┼────────────┼─────────┼────────────────┤\n",
      "│      32051 │       10 │              11 │        0.00 │      0.10 │              1 │      10000 │     200 │       10000.00 │\n",
      "╰────────────┴──────────┴─────────────────┴─────────────┴───────────┴────────────────┴────────────┴─────────┴────────────────╯\n",
      "╭────────────┬─────────────────┬────────────┬───────┬──────────┬──────────────┬─────────────────────────────┬───────────┬──────────╮\n",
      "│     WORKER │         VERSION │   CIRCUITS │   LOC │   ENERGY │      RUNTIME │                 LAST UPDATE │     STEPS │   STATUS │\n",
      "├────────────┼─────────────────┼────────────┼───────┼──────────┼──────────────┼─────────────────────────────┼───────────┼──────────┤\n",
      "│ 4dbf..9dbf │ 2.3.5.OZM.134.L │      10000 │     0 │     0.00 │ 9.450003533s │ 2024-08-19T12:57:33.031231Z │ 0 (0.00%) │  \u001b[1;31mSTOPPED\u001b[0m │\n",
      "├────────────┼─────────────────┼────────────┼───────┼──────────┼──────────────┼─────────────────────────────┼───────────┼──────────┤\n",
      "│ 6a66..2857 │ 2.3.5.OZM.134.L │      10000 │     0 │     0.00 │ 4.564201323s │ 2024-08-19T12:57:37.917037Z │ 0 (0.00%) │  \u001b[1;31mSTOPPED\u001b[0m │\n",
      "╰────────────┴─────────────────┴────────────┴───────┴──────────┴──────────────┴─────────────────────────────┴───────────┴──────────╯\n",
      "[DYNEX] FINISHED READ AFTER 9.89 SECONDS\n",
      "[DYNEX] SAMPLESET READY\n"
     ]
    }
   ],
   "source": [
    "model = dynex.BQM(bqm)\n",
    "sampler = dynex.DynexSampler(model, mainnet=True, description='SamerAlgorithms', bnb=False)\n",
    "sampleset = sampler.sample(num_reads=10000, annealing_time = 200, debugging=False, shots=1, is_cluster=True)"
   ]
  },
  {
   "cell_type": "markdown",
   "id": "df8ec0dd-439b-47b5-8e96-3570b339ff66",
   "metadata": {},
   "source": [
    "#### Decode Sampleset"
   ]
  },
  {
   "cell_type": "code",
   "execution_count": 16,
   "id": "2d2e5f20-2429-42e2-8db4-dea15d2f9ca8",
   "metadata": {},
   "outputs": [
    {
     "name": "stdout",
     "output_type": "stream",
     "text": [
      "{'d': 5}\n"
     ]
    }
   ],
   "source": [
    "decoded = DecodeSolution(solve, sampleset)\n",
    "best = min(decoded, key=lambda x: x.energy)\n",
    "print(best.sample)"
   ]
  },
  {
   "cell_type": "markdown",
   "id": "8eaf2c13-278d-474d-9555-c72c2ef79b71",
   "metadata": {},
   "source": [
    "#### Validate (This should be zero [BALANCED])"
   ]
  },
  {
   "cell_type": "code",
   "execution_count": 17,
   "id": "ab7edb80-3d12-445d-a71a-d9c7417e2fcf",
   "metadata": {},
   "outputs": [
    {
     "name": "stdout",
     "output_type": "stream",
     "text": [
      "Expression Result:  0\n"
     ]
    }
   ],
   "source": [
    "d = best.sample['d']\n",
    "Expr = N % d\n",
    "print(\"Expression Result: \", Expr)"
   ]
  },
  {
   "cell_type": "markdown",
   "id": "eb46467c-8d14-40e0-8c71-62584132e099",
   "metadata": {},
   "source": [
    "-------------------------------------"
   ]
  },
  {
   "cell_type": "markdown",
   "id": "1e12b624-4358-47d0-903e-3aad1f299b47",
   "metadata": {},
   "source": [
    "## Example 4: (Integer Factorization)"
   ]
  },
  {
   "cell_type": "markdown",
   "id": "0be188b4-8bb9-499d-8cd8-bfaf20c3df4b",
   "metadata": {},
   "source": [
    "$\n",
    "N - [\\left( p \\times q \\right)] = 0\n",
    "$\n",
    "\n",
    "where:\n",
    "- $p$, $q$ have 3 qubits\n",
    "- $N$ has 6 qubits"
   ]
  },
  {
   "cell_type": "code",
   "execution_count": 18,
   "id": "2cb70e8b-e080-49e7-bbd3-4cf584a26450",
   "metadata": {},
   "outputs": [],
   "source": [
    "@Expression\n",
    "def Minimize(N, p, q) -> Qubits(6):\n",
    "    N: fVar[Qubits(6)] # 6 qubits needed for `N` variable and fVar means its value will be provided later.\n",
    "    p: Qubits(3) # 3 qubits needed for `p` variable\n",
    "    q: Qubits(3) # 3 qubits needed for `q` variable\n",
    "    Expr = N - (p * q)\n",
    "    return Expr\n",
    "N = 36\n",
    "solve = Minimize.assign(N=N)"
   ]
  },
  {
   "cell_type": "markdown",
   "id": "f4360548-2286-44b0-8f3b-ea51da26c209",
   "metadata": {},
   "source": [
    "#### Translate the Expression into BQM"
   ]
  },
  {
   "cell_type": "code",
   "execution_count": 19,
   "id": "e882a2d7-fa8f-4eb9-9ae0-f6fffe6490f3",
   "metadata": {},
   "outputs": [],
   "source": [
    "bqm = solve.BQM()"
   ]
  },
  {
   "cell_type": "markdown",
   "id": "14cce378-3bfd-44bd-9fb3-70f77dbda1e2",
   "metadata": {},
   "source": [
    "### Using Dynex to solve the expression (Neuromorphic Quantum Annealer)"
   ]
  },
  {
   "cell_type": "code",
   "execution_count": 20,
   "id": "ab76d53a-8e1b-440f-9ef7-30d7316e744b",
   "metadata": {},
   "outputs": [
    {
     "name": "stdout",
     "output_type": "stream",
     "text": [
      "╭────────────┬──────────┬─────────────────┬─────────────┬───────────┬────────────────┬────────────┬─────────┬────────────────╮\n",
      "│   DYNEXJOB │   QUBITS │   QUANTUM GATES │   BLOCK FEE │   ELAPSED │   WORKERS READ │   CIRCUITS │   STEPS │   GROUND STATE │\n",
      "├────────────┼──────────┼─────────────────┼─────────────┼───────────┼────────────────┼────────────┼─────────┼────────────────┤\n",
      "│      32052 │       26 │             167 │        0.00 │      0.10 │              1 │      10000 │     200 │      287000.00 │\n",
      "╰────────────┴──────────┴─────────────────┴─────────────┴───────────┴────────────────┴────────────┴─────────┴────────────────╯\n",
      "╭────────────┬─────────────────┬────────────┬───────┬──────────┬──────────────┬─────────────────────────────┬───────────┬──────────╮\n",
      "│     WORKER │         VERSION │   CIRCUITS │   LOC │   ENERGY │      RUNTIME │                 LAST UPDATE │     STEPS │   STATUS │\n",
      "├────────────┼─────────────────┼────────────┼───────┼──────────┼──────────────┼─────────────────────────────┼───────────┼──────────┤\n",
      "│ 4dbf..9dbf │ 2.3.5.OZM.134.L │      10000 │     0 │     0.00 │ 748.510663ms │ 2024-08-19T12:58:37.980206Z │ 0 (0.00%) │  \u001b[1;31mSTOPPED\u001b[0m │\n",
      "├────────────┼─────────────────┼────────────┼───────┼──────────┼──────────────┼─────────────────────────────┼───────────┼──────────┤\n",
      "│ 6a66..2857 │ 2.3.5.OZM.134.L │      10000 │     0 │     0.00 │ 5.755334233s │ 2024-08-19T12:58:32.973385Z │ 0 (0.00%) │  \u001b[1;31mSTOPPED\u001b[0m │\n",
      "╰────────────┴─────────────────┴────────────┴───────┴──────────┴──────────────┴─────────────────────────────┴───────────┴──────────╯\n",
      "[DYNEX] FINISHED READ AFTER 9.95 SECONDS\n",
      "[DYNEX] SAMPLESET READY\n"
     ]
    }
   ],
   "source": [
    "model = dynex.BQM(bqm)\n",
    "sampler = dynex.DynexSampler(model, mainnet=True, description='SamerAlgorithms', bnb=False)\n",
    "sampleset = sampler.sample(num_reads=10000, annealing_time = 200, debugging=False, shots=1, is_cluster=True)"
   ]
  },
  {
   "cell_type": "markdown",
   "id": "655ea720-6310-400f-bbee-beac5ecd2e12",
   "metadata": {},
   "source": [
    "#### Decode Sampleset"
   ]
  },
  {
   "cell_type": "code",
   "execution_count": 21,
   "id": "9e0c5a78-8273-48f4-9398-a7007c06171b",
   "metadata": {},
   "outputs": [
    {
     "name": "stdout",
     "output_type": "stream",
     "text": [
      "{'p': 6, 'q': 6}\n"
     ]
    }
   ],
   "source": [
    "decoded = DecodeSolution(solve, sampleset)\n",
    "best = min(decoded, key=lambda x: x.energy)\n",
    "print(best.sample)"
   ]
  },
  {
   "cell_type": "markdown",
   "id": "bde6072d-a72c-4940-9685-cf1b4d461a14",
   "metadata": {},
   "source": [
    "#### Validate (This should be zero [BALANCED])"
   ]
  },
  {
   "cell_type": "code",
   "execution_count": 22,
   "id": "0812a729-fa1c-43d1-a7a4-b647e9196d13",
   "metadata": {},
   "outputs": [
    {
     "name": "stdout",
     "output_type": "stream",
     "text": [
      "Expression Result:  0\n"
     ]
    }
   ],
   "source": [
    "p = best.sample['p']\n",
    "q = best.sample['q']\n",
    "Expr = N - (p * q)\n",
    "print(\"Expression Result: \", Expr)"
   ]
  },
  {
   "cell_type": "code",
   "execution_count": null,
   "id": "1ee8deef-2e1f-434a-8d89-9c15cb13d561",
   "metadata": {},
   "outputs": [],
   "source": []
  }
 ],
 "metadata": {
  "kernelspec": {
   "display_name": "Python 3 (ipykernel)",
   "language": "python",
   "name": "python3"
  },
  "language_info": {
   "codemirror_mode": {
    "name": "ipython",
    "version": 3
   },
   "file_extension": ".py",
   "mimetype": "text/x-python",
   "name": "python",
   "nbconvert_exporter": "python",
   "pygments_lexer": "ipython3",
   "version": "3.10.14"
  }
 },
 "nbformat": 4,
 "nbformat_minor": 5
}
